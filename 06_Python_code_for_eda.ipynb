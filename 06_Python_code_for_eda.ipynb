{
  "nbformat": 4,
  "nbformat_minor": 0,
  "metadata": {
    "colab": {
      "name": "06_Python_code_for_eda.ipynb",
      "provenance": [],
      "collapsed_sections": [],
      "toc_visible": true
    },
    "kernelspec": {
      "name": "python3",
      "display_name": "Python 3"
    }
  },
  "cells": [
    {
      "cell_type": "markdown",
      "metadata": {
        "colab_type": "text",
        "id": "hgGZaPy9vA2e"
      },
      "source": [
        "# Data Load"
      ]
    },
    {
      "cell_type": "code",
      "metadata": {
        "colab_type": "code",
        "id": "wyUOIo2vvA3c",
        "colab": {}
      },
      "source": [
        "import datetime as dt \n",
        "import pandas as pd\n",
        "import seaborn as sns\n",
        "import numpy as np\n",
        "import matplotlib.pyplot as plt\n",
        "import urllib.request\n",
        "from tqdm import tqdm_notebook\n",
        "import pickle\n",
        "import time\n",
        "from tqdm import tqdm\n",
        "from sklearn import metrics\n",
        "import gc\n",
        "import statsmodels.formula.api as smf\n",
        "import statsmodels.api as sm\n",
        "from collections import Counter#<---value count for list\n",
        "from sklearn.model_selection import StratifiedKFold"
      ],
      "execution_count": null,
      "outputs": []
    },
    {
      "cell_type": "code",
      "metadata": {
        "colab_type": "code",
        "id": "MS-L5JZVvA3l",
        "colab": {}
      },
      "source": [
        "#Select the target species\n",
        "file_id=\"nutwoo\"\n",
        "bird_name=\"Nuttall's Woodpecker\"\n",
        "bcr_id='32'\n",
        "\n",
        "file_id=\"recwoo\"\n",
        "bird_name=\"Red-cockaded Woodpecker\"\n",
        "bcr_id='27'\n",
        "\n",
        "file_id=\"lewwoo\"\n",
        "bird_name=\"Lewis’s Woodpecker\"\n",
        "bcr_id='9 and 10'"
      ],
      "execution_count": null,
      "outputs": []
    },
    {
      "cell_type": "code",
      "metadata": {
        "colab_type": "code",
        "id": "WjAs-1HgvA3t",
        "colab": {}
      },
      "source": [
        "PATH='/content/drive/My Drive/Colab Notebooks/dissertation/'\n",
        "ebird_ss=pd.read_csv(PATH+'ebird_ss_'+file_id+'_add30yMonth.csv')"
      ],
      "execution_count": null,
      "outputs": []
    },
    {
      "cell_type": "markdown",
      "metadata": {
        "id": "JVhFnX0veORO",
        "colab_type": "text"
      },
      "source": [
        "## Define useful functions"
      ]
    },
    {
      "cell_type": "code",
      "metadata": {
        "id": "3GrUf85ygvNN",
        "colab_type": "code",
        "colab": {}
      },
      "source": [
        "def reduce_mem_usage(df, verbose=True):\n",
        "    numerics = ['int16', 'int32', 'int64', 'float16', 'float32', 'float64']\n",
        "    start_mem = df.memory_usage().sum() / 1024**2\n",
        "    for col in df.columns:\n",
        "        if col != 'time':\n",
        "            col_type = df[col].dtypes\n",
        "            if col_type in numerics:\n",
        "                c_min = df[col].min()\n",
        "                c_max = df[col].max()\n",
        "                if str(col_type)[:3] == 'int':\n",
        "                    if c_min > np.iinfo(np.int8).min and c_max < np.iinfo(np.int8).max:\n",
        "                        df[col] = df[col].astype(np.int8)\n",
        "                    elif c_min > np.iinfo(np.int16).min and c_max < np.iinfo(np.int16).max:\n",
        "                        df[col] = df[col].astype(np.int16)\n",
        "                    elif c_min > np.iinfo(np.int32).min and c_max < np.iinfo(np.int32).max:\n",
        "                        df[col] = df[col].astype(np.int32)\n",
        "                    elif c_min > np.iinfo(np.int64).min and c_max < np.iinfo(np.int64).max:\n",
        "                        df[col] = df[col].astype(np.int64)  \n",
        "                else:\n",
        "                    if c_min > np.finfo(np.float16).min and c_max < np.finfo(np.float16).max:\n",
        "                        df[col] = df[col].astype(np.float16)\n",
        "                    elif c_min > np.finfo(np.float32).min and c_max < np.finfo(np.float32).max:\n",
        "                        df[col] = df[col].astype(np.float32)\n",
        "                    else:\n",
        "                        df[col] = df[col].astype(np.float64)    \n",
        "    end_mem = df.memory_usage().sum() / 1024**2\n",
        "    if verbose: print('Mem. usage decreased to {:5.2f} Mb ({:.1f}% reduction)'.format(end_mem, 100 * (start_mem - end_mem) / start_mem))\n",
        "    return df"
      ],
      "execution_count": null,
      "outputs": []
    },
    {
      "cell_type": "markdown",
      "metadata": {
        "id": "fVXcWTX1Ca_h",
        "colab_type": "text"
      },
      "source": [
        "## Drop/fix NaN values"
      ]
    },
    {
      "cell_type": "code",
      "metadata": {
        "id": "wcGpJalcCH7g",
        "colab_type": "code",
        "colab": {}
      },
      "source": [
        "#Check\n",
        "print((ebird_ss.isna().describe().loc['unique']==2).sort_values())"
      ],
      "execution_count": null,
      "outputs": []
    },
    {
      "cell_type": "code",
      "metadata": {
        "id": "WBhusA17CNv0",
        "colab_type": "code",
        "colab": {}
      },
      "source": [
        "if file_id==\"nutwoo\":\n",
        "    # For Nuttall's Woodpecker\n",
        "    print(ebird_ss.prec30_cv.isna().value_counts())\n",
        "    print(ebird_ss.prec180_cv.isna().value_counts())\n",
        "    print(ebird_ss.observation_count.isna().value_counts())\n",
        "    ebird_ss.loc[ebird_ss['prec30_cv'].isna(),'prec30_cv']=0\n",
        "    ebird_ss.loc[ebird_ss['prec180_cv'].isna(),'prec180_cv']=0\n",
        "    ebird_ss.drop(columns=['observation_count'],inplace=True)\n",
        "\n",
        "elif file_id==\"recwoo\":\n",
        "    # For \"Red-cockaded Woodpecker\"\n",
        "    print(ebird_ss.prec30_cv.isna().value_counts())\n",
        "    print(ebird_ss.elevation_median.isna().value_counts())\n",
        "    print(ebird_ss.elevation_sd.isna().value_counts())\n",
        "    print(ebird_ss.observation_count.isna().value_counts())\n",
        "    ebird_ss.drop(columns=['observation_count'],inplace=True)\n",
        "    ebird_ss.dropna(inplace=True)\n",
        "    ebird_ss.reset_index(drop=True,inplace=True)\n",
        "\n",
        "elif file_id==\"lewwoo\":\n",
        "    # For \"Lewis’s Woodpecker\"\n",
        "    print(ebird_ss.prec30_cv.isna().value_counts())\n",
        "    print(ebird_ss.observation_count.isna().value_counts())\n",
        "    ebird_ss.loc[ebird_ss['prec30_cv'].isna(),'prec30_cv']=0\n",
        "    ebird_ss.drop(columns=['observation_count'],inplace=True)\n",
        "\n",
        "else:\n",
        "    print('Missing file_id')"
      ],
      "execution_count": null,
      "outputs": []
    },
    {
      "cell_type": "code",
      "metadata": {
        "id": "PZGIGeQIdW3K",
        "colab_type": "code",
        "colab": {}
      },
      "source": [
        "ebird_ss=reduce_mem_usage(ebird_ss)"
      ],
      "execution_count": null,
      "outputs": []
    },
    {
      "cell_type": "markdown",
      "metadata": {
        "id": "HksvjPJX5LZ-",
        "colab_type": "text"
      },
      "source": [
        "## Set variables for use"
      ]
    },
    {
      "cell_type": "code",
      "metadata": {
        "id": "LYmozHd45Q62",
        "colab_type": "code",
        "colab": {}
      },
      "source": [
        "variables_base=['species_observed',\n",
        "'time_observations_started',\n",
        "'duration_minutes',\n",
        "'effort_distance_km',\n",
        " 'number_observers',\n",
        " 'bio1',\n",
        " 'bio2',\n",
        " 'bio3',\n",
        " 'bio4',\n",
        " 'bio5',\n",
        " 'bio6',\n",
        " 'bio7',\n",
        " 'bio8',\n",
        " 'bio9',\n",
        " 'bio10',\n",
        " 'bio11',\n",
        " 'bio12',\n",
        " 'bio13',\n",
        " 'bio14',\n",
        " 'bio15',\n",
        " 'bio16',\n",
        " 'bio17',\n",
        " 'bio18',\n",
        " 'bio19',\n",
        " 'prec30_mean',\n",
        " 'prec180_mean',\n",
        " 'prec365_mean',\n",
        " 'prec730_mean',\n",
        " 'prec1095_mean',\n",
        " 'prec1460_mean',\n",
        " 'prec1825_mean',\n",
        " 'tmp30_mean',\n",
        " 'tmp30_std',\n",
        " 'tmp180_mean',\n",
        " 'tmp180_std',\n",
        " 'tmp365_mean',\n",
        " 'tmp365_std',\n",
        " 'tmp730_mean',\n",
        " 'tmp730_std',\n",
        " 'tmp1095_mean',\n",
        " 'tmp1095_std',\n",
        " 'tmp1460_mean',\n",
        " 'tmp1460_std',\n",
        " 'tmp1825_mean',\n",
        " 'tmp1825_std',\n",
        " 'tmax30_mean',\n",
        " 'tmax30_std',\n",
        " 'tmax180_mean',\n",
        " 'tmax180_std',\n",
        " 'tmax365_mean',\n",
        " 'tmax365_std',\n",
        " 'tmax730_mean',\n",
        " 'tmax730_std',\n",
        " 'tmax1095_mean',\n",
        " 'tmax1095_std',\n",
        " 'tmax1460_mean',\n",
        " 'tmax1460_std',\n",
        " 'tmax1825_mean',\n",
        " 'tmax1825_std',\n",
        " 'tmin30_mean',\n",
        " 'tmin30_std',\n",
        " 'tmin180_mean',\n",
        " 'tmin180_std',\n",
        " 'tmin365_mean',\n",
        " 'tmin365_std',\n",
        " 'tmin730_mean',\n",
        " 'tmin730_std',\n",
        " 'tmin1095_mean',\n",
        " 'tmin1095_std',\n",
        " 'tmin1460_mean',\n",
        " 'tmin1460_std',\n",
        " 'tmin1825_mean',\n",
        " 'tmin1825_std',\n",
        " 'prec30_cv',\n",
        " 'prec180_cv',\n",
        " 'prec365_cv',\n",
        " 'prec730_cv',\n",
        " 'prec1095_cv',\n",
        " 'prec1460_cv',\n",
        " 'prec1825_cv',\n",
        " 'tmin_30y_monthly',\n",
        " 'tmax_30y_monthly',\n",
        " 'tavg_30y_monthly',\n",
        " 'prec_30y_monthly',\n",
        " 'srad_30y_monthly',\n",
        " 'wind_30y_monthly',\n",
        " 'vapr_30y_monthly',\n",
        " 'pland_00_water',\n",
        " 'pland_01_evergreen_needleleaf',\n",
        " 'pland_02_evergreen_broadleaf',\n",
        " 'pland_03_deciduous_needleleaf',#<--remove for nutwoo\n",
        " 'pland_04_deciduous_broadleaf',\n",
        " 'pland_05_mixed_forest',\n",
        " 'pland_06_closed_shrubland',\n",
        " 'pland_07_open_shrubland',\n",
        " 'pland_08_woody_savanna',\n",
        " 'pland_09_savanna',\n",
        " 'pland_10_grassland',\n",
        " 'pland_11_wetland',\n",
        " 'pland_12_cropland',\n",
        " 'pland_13_urban',\n",
        " 'pland_14_mosiac',\n",
        " 'pland_15_barren',\n",
        "'elevation_median',\n",
        "'elevation_sd'\n",
        "]\n",
        "if file_id==\"nutwoo\":\n",
        "    variables_base.remove('pland_03_deciduous_needleleaf')"
      ],
      "execution_count": null,
      "outputs": []
    },
    {
      "cell_type": "markdown",
      "metadata": {
        "id": "oG2GWrW3j8qE",
        "colab_type": "text"
      },
      "source": [
        "# Number of the checklists in BCR 32 last 10 years"
      ]
    },
    {
      "cell_type": "code",
      "metadata": {
        "id": "ZdmDf4Lhj7UY",
        "colab_type": "code",
        "colab": {}
      },
      "source": [
        "fig, ax=plt.subplots(1,figsize=(7,5))\n",
        "year=[2010,2011,   2012,   2013,   2014,   2015,   2016,   2017,   2018,   2019]\n",
        "checklist=[35897,  48820,  69221,  96099, 111156, 130727, 143785, 172502, 217373, 239270]\n",
        "plt.bar(year,checklist)\n",
        "for (index, value) in zip(year, checklist):\n",
        "    ax.text(index-0.5,value+3500, str(value))\n",
        "    \n",
        "ax.set_ylabel('Number of checklists in BCR 32',size=15)\n",
        "ax.set_xlabel('Year',size=15)\n",
        "plt.savefig('temporal_bcr32.png',bbox_inches='tight')"
      ],
      "execution_count": null,
      "outputs": []
    },
    {
      "cell_type": "markdown",
      "metadata": {
        "id": "a0AA5NkguutE",
        "colab_type": "text"
      },
      "source": [
        "# Explanatory data analysis"
      ]
    },
    {
      "cell_type": "code",
      "metadata": {
        "id": "Vh3Vw9--e6Z0",
        "colab_type": "code",
        "colab": {}
      },
      "source": [
        "filter_col = [col for col in ebird_ss if col.startswith('pland_')]"
      ],
      "execution_count": null,
      "outputs": []
    },
    {
      "cell_type": "code",
      "metadata": {
        "id": "FbfoCSEoueY4",
        "colab_type": "code",
        "colab": {}
      },
      "source": [
        "climatic_col=['bio1','bio4', 'bio12', 'bio15']"
      ],
      "execution_count": null,
      "outputs": []
    },
    {
      "cell_type": "code",
      "metadata": {
        "id": "JxeQwnoiT6W6",
        "colab_type": "code",
        "colab": {}
      },
      "source": [
        "df_eda_ss=pd.concat([pd.cut(ebird_ss.time_observations_started, bins=np.arange(0,25,1),include_lowest=False),\n",
        "ebird_ss.species_observed,\n",
        "ebird_ss.duration_minutes,\n",
        "ebird_ss.effort_distance_km,\n",
        "ebird_ss.number_observers,\n",
        "ebird_ss.elevation_median,\n",
        "ebird_ss.elevation_sd,\n",
        "ebird_ss[filter_col],\n",
        "ebird_ss[climatic_col],\n",
        "],axis=1)"
      ],
      "execution_count": null,
      "outputs": []
    },
    {
      "cell_type": "code",
      "metadata": {
        "id": "34-B6_7GMb3r",
        "colab_type": "code",
        "colab": {}
      },
      "source": [
        "df_eda_ss=df_eda_ss[df_eda_ss['number_observers']>0]"
      ],
      "execution_count": null,
      "outputs": []
    },
    {
      "cell_type": "markdown",
      "metadata": {
        "id": "qMHNU0zRvSwr",
        "colab_type": "text"
      },
      "source": [
        "## Time observation started"
      ]
    },
    {
      "cell_type": "code",
      "metadata": {
        "id": "6EDGpN7sD0Pe",
        "colab_type": "code",
        "colab": {}
      },
      "source": [
        "fig, ax1=plt.subplots(figsize=(23,2.5))\n",
        "ax2=ax1.twinx()\n",
        "\n",
        "df_eda_ss.time_observations_started.value_counts().sort_index()\\\n",
        ".plot(kind='bar',color='orange',ax=ax1,label='Number of checklists')\n",
        "(df_eda_ss[df_eda_ss[\"species_observed\"]==True].time_observations_started.value_counts().sort_index()\\\n",
        " /df_eda_ss.time_observations_started.value_counts().sort_index())\\\n",
        " .plot(kind='line',marker=\"o\",color='blue',ax=ax2,label='Encounter rate')\n",
        "\n",
        "ax1.set_zorder(1)\n",
        "ax2.set_zorder(2)\n",
        "ax1.patch.set_alpha(0)\n",
        "\n",
        "ax1.legend(bbox_to_anchor=(1, 1), loc='upper right', borderaxespad=0.5, fontsize=15)\n",
        "ax2.legend(bbox_to_anchor=(1, 0.8), loc='upper right', borderaxespad=0.5, fontsize=15)\n",
        "\n",
        "ax1.grid(True)\n",
        "ax1.set_title(f'Dataset of {bird_name} in BCR {bcr_id} after subsampling (n={len(df_eda_ss)})',size='15')\n",
        "\n",
        "ax1.set_xlabel('Time (24-hour format)',size='15')\n",
        "ax1.set_ylabel('Number of checklists',size='15')\n",
        "ax2.set_ylabel('Encounter rate',size='15')\n",
        "ax1.tick_params(labelsize=15)\n",
        "ax2.tick_params(labelsize=15)\n",
        "\n",
        "fig.savefig(PATH+f'figures/time_{file_id}.png',bbox_inches='tight')\n",
        "plt.show()"
      ],
      "execution_count": null,
      "outputs": []
    },
    {
      "cell_type": "markdown",
      "metadata": {
        "id": "LvToi1oyvXn_",
        "colab_type": "text"
      },
      "source": [
        "## Duration of the observation"
      ]
    },
    {
      "cell_type": "code",
      "metadata": {
        "id": "Hl7P1cSMGpt0",
        "colab_type": "code",
        "colab": {}
      },
      "source": [
        "fig, ax1=plt.subplots(figsize=(23,2.5))\n",
        "ax2=ax1.twinx()\n",
        "\n",
        "bins=np.arange(0,315,15)\n",
        "df_eda_ss.duration_minutes.plot(kind='hist',color='orange',ax=ax1,bins=bins,label='Number of checklists')\n",
        "ax2.plot(bins[1:]-7.5,\n",
        "         (np.histogram(df_eda_ss[df_eda_ss[\"species_observed\"]==True].duration_minutes,bins=bins)[0])/\\\n",
        "         (np.histogram(df_eda_ss.duration_minutes,bins=bins)[0]),\n",
        "         marker=\"o\",color='blue',label='Encounter rate')\n",
        "\n",
        "ax1.set_zorder(1)\n",
        "ax2.set_zorder(2)\n",
        "ax1.patch.set_alpha(0)\n",
        "\n",
        "ax1.legend(bbox_to_anchor=(0, 1), loc='upper left', borderaxespad=0.5, fontsize=15)\n",
        "ax2.legend(bbox_to_anchor=(0, 0.8), loc='upper left', borderaxespad=0.5, fontsize=15)\n",
        "\n",
        "ax1.set_title(f'Dataset of {bird_name} in BCR {bcr_id} after subsampling (n={len(df_eda_ss)})',size='15')\n",
        "ax1.grid(True)\n",
        "\n",
        "ax1.set_xlabel('Duration of observation (minutes)',size='15')\n",
        "ax1.set_ylabel('Number of checklists',size='15')\n",
        "ax2.set_ylabel('Encounter rate',size='15')\n",
        "ax1.tick_params(labelsize=15)\n",
        "ax2.tick_params(labelsize=15)\n",
        "\n",
        "fig.savefig(PATH+f'figures/duration_{file_id}.png',bbox_inches='tight')\n",
        "plt.show()"
      ],
      "execution_count": null,
      "outputs": []
    },
    {
      "cell_type": "markdown",
      "metadata": {
        "id": "5mLfDDwfvbB3",
        "colab_type": "text"
      },
      "source": [
        "## Distance of the observation"
      ]
    },
    {
      "cell_type": "code",
      "metadata": {
        "id": "NMuzCgO3J0Ed",
        "colab_type": "code",
        "colab": {}
      },
      "source": [
        "fig, ax1=plt.subplots(figsize=(23,2.5))\n",
        "ax2=ax1.twinx()\n",
        "\n",
        "bins=np.arange(0,5.5,0.5)\n",
        "df_eda_ss.effort_distance_km.plot(kind='hist',color='orange',ax=ax1,bins=bins,label='Number of checklists')\n",
        "ax2.plot(bins[1:]-0.25,\n",
        "         (np.histogram(df_eda_ss[df_eda_ss[\"species_observed\"]==True].effort_distance_km,bins=bins)[0])/\\\n",
        "         (np.histogram(df_eda_ss.effort_distance_km,bins=bins)[0]),\n",
        "         marker=\"o\",color='blue',label='Encounter rate')\n",
        "\n",
        "ax1.set_zorder(1)\n",
        "ax2.set_zorder(2)\n",
        "ax1.patch.set_alpha(0)\n",
        "\n",
        "ax1.legend(bbox_to_anchor=(1, 0.45), loc='upper right', borderaxespad=0.5, fontsize=15)\n",
        "ax2.legend(bbox_to_anchor=(1, 0.3), loc='upper right', borderaxespad=0.5, fontsize=15)\n",
        "\n",
        "ax1.set_title(f'Dataset of {bird_name} in BCR {bcr_id} after subsampling (n={len(df_eda_ss)})',size=15)\n",
        "ax1.grid(True)\n",
        "\n",
        "ax1.set_xlabel('Distance (km)',size=15)\n",
        "ax1.set_ylabel('Number of checklists',size=15)\n",
        "ax2.set_ylabel('Encounter rate',size=15)\n",
        "ax1.tick_params(labelsize=15)\n",
        "ax2.tick_params(labelsize=15)\n",
        "\n",
        "fig.savefig(PATH+f'figures/distance_{file_id}.png',bbox_inches='tight')\n",
        "plt.show()"
      ],
      "execution_count": null,
      "outputs": []
    },
    {
      "cell_type": "markdown",
      "metadata": {
        "id": "Jb1sINDMveYo",
        "colab_type": "text"
      },
      "source": [
        "##Number of observers"
      ]
    },
    {
      "cell_type": "code",
      "metadata": {
        "id": "B37ph_tFNQsw",
        "colab_type": "code",
        "colab": {}
      },
      "source": [
        "fig, ax1=plt.subplots(figsize=(23,2.5))\n",
        "ax2=ax1.twinx()\n",
        "\n",
        "df_eda_ss.number_observers.value_counts().sort_index().plot(kind='bar',color='orange',ax=ax1,label='Number of checklists')\n",
        "ax2.plot(np.arange(0,10,1),\n",
        "         (df_eda_ss[df_eda_ss[\"species_observed\"]==True].number_observers.value_counts().sort_index()/df_eda_ss.number_observers.value_counts().sort_index()),\n",
        "         marker=\"o\",color='blue',label='Encounter rate')\n",
        "\n",
        "ax1.set_zorder(1)\n",
        "ax2.set_zorder(2)\n",
        "ax1.patch.set_alpha(0)\n",
        "\n",
        "ax1.legend(bbox_to_anchor=(1, 0.45), loc='upper right', borderaxespad=0.5, fontsize=15)\n",
        "ax2.legend(bbox_to_anchor=(1, 0.3), loc='upper right', borderaxespad=0.5, fontsize=15)\n",
        "\n",
        "ax1.set_title(f'Dataset of {bird_name} in BCR {bcr_id} after subsampling (n={len(df_eda_ss)})',size=15)\n",
        "ax1.grid(True)\n",
        "\n",
        "ax1.set_xlabel('Number of observers',size=15)\n",
        "ax1.set_xticklabels(np.arange(1,11,1),rotation=0)\n",
        "ax1.set_ylabel('Number of checklists',size=15)\n",
        "ax2.set_ylabel('Encounter rate',size=15)\n",
        "ax1.tick_params(labelsize=15)\n",
        "ax2.tick_params(labelsize=15)\n",
        "\n",
        "fig.savefig(PATH+f'figures/observers_{file_id}.png',bbox_inches='tight')\n",
        "plt.show()"
      ],
      "execution_count": null,
      "outputs": []
    },
    {
      "cell_type": "markdown",
      "metadata": {
        "id": "-kO8liytbHQN",
        "colab_type": "text"
      },
      "source": [
        "## Elevation"
      ]
    },
    {
      "cell_type": "code",
      "metadata": {
        "id": "vyrtH22Qbxai",
        "colab_type": "code",
        "colab": {}
      },
      "source": [
        "fig, ax1=plt.subplots(figsize=(23,2.5))\n",
        "ax2=ax1.twinx()\n",
        "\n",
        "if file_id==\"nutwoo\":\n",
        "    bins=np.arange(-10,3200,100) #<---for nutwoo\n",
        "\n",
        "elif file_id==\"recwoo\":\n",
        "    bins=np.arange(-10,330,10) #<---for recwoo\n",
        "\n",
        "elif file_id==\"lewwoo\":\n",
        "    bins=np.arange(0,3900,100) #<---for lewwoo\n",
        "\n",
        "df_eda_ss.elevation_median.plot(kind='hist',color='orange',ax=ax1,bins=bins,label='Number of checklists')\n",
        "ax2.plot(bins[1:]-(bins[1]-bins[0])/2,\n",
        "         (np.histogram(df_eda_ss[df_eda_ss[\"species_observed\"]==True].elevation_median,bins=bins)[0])/\\\n",
        "         (np.histogram(df_eda_ss.elevation_median,bins=bins)[0]),\n",
        "         marker=\"o\",color='blue',label='Encounter rate')\n",
        "\n",
        "ax1.set_zorder(1)\n",
        "ax2.set_zorder(2)\n",
        "ax1.patch.set_alpha(0)\n",
        "\n",
        "ax1.legend(bbox_to_anchor=(1, 0.6), loc='upper right', borderaxespad=0.5, fontsize=15)\n",
        "ax2.legend(bbox_to_anchor=(1, 0.4), loc='upper right', borderaxespad=0.5, fontsize=15)\n",
        "\n",
        "ax1.set_title(f'Dataset of {bird_name} in BCR {bcr_id} after subsampling (n={len(df_eda_ss)})',size=15)\n",
        "ax1.grid(True)\n",
        "\n",
        "ax1.set_xlabel('Elevation (m)',size=15)\n",
        "ax1.set_ylabel('Number of checklists',size=15)\n",
        "ax2.set_ylabel('Encounter rate',size=15)\n",
        "ax1.tick_params(labelsize=15)\n",
        "ax2.tick_params(labelsize=15)\n",
        "fig.savefig(PATH+f'figures/elevation_{file_id}.png',bbox_inches='tight')\n",
        "plt.show()"
      ],
      "execution_count": null,
      "outputs": []
    },
    {
      "cell_type": "markdown",
      "metadata": {
        "id": "cwLsD9kGbKmG",
        "colab_type": "text"
      },
      "source": [
        "## Land Use"
      ]
    },
    {
      "cell_type": "code",
      "metadata": {
        "id": "LX7dQczthUTo",
        "colab_type": "code",
        "colab": {}
      },
      "source": [
        "labels = filter_col\n",
        "Observed = df_eda_ss.groupby('species_observed').mean()[filter_col].loc[True,:]\n",
        "NotObserved = df_eda_ss.groupby('species_observed').mean()[filter_col].loc[False,:]\n",
        "\n",
        "x = np.arange(len(labels))  # the label locations\n",
        "width = 0.35  # the width of the bars\n",
        "\n",
        "fig, ax = plt.subplots(figsize=(20,6))\n",
        "rects1 = ax.bar(x - width/2, Observed, width, label='True (encountered)',\n",
        "                #yerr=df_eda_ss.groupby('species_observed').std()[filter_col].loc[True,:],\n",
        "                color='orange')\n",
        "rects2 = ax.bar(x + width/2, NotObserved, width, label='False (not encountered)',\n",
        "                #yerr=df_eda_ss.groupby('species_observed').std()[filter_col].loc[False,:],\n",
        "                color='blue')\n",
        "\n",
        "# Add some text for labels, title and custom x-axis tick labels, etc.\n",
        "ax.set_ylabel('Proportion of the area',size=15)\n",
        "ax.set_xlabel('Land use category',size=15)\n",
        "ax.set_xticks(x)\n",
        "labels2=list(map(lambda x: x[6:], labels))\n",
        "ax.set_xticklabels(labels2,rotation=45,size=15)\n",
        "ax.legend(loc='best', fontsize=15)\n",
        "\n",
        "ax.set_title(f'Dataset of {bird_name} in BCR {bcr_id} after subsampling (n={len(df_eda_ss)})',size=15)\n",
        "fig.tight_layout()\n",
        "ax.tick_params(labelsize=15)\n",
        "fig.savefig(PATH+f'figures/landuse_{file_id}.png',bbox_inches='tight')\n",
        "plt.show()"
      ],
      "execution_count": null,
      "outputs": []
    },
    {
      "cell_type": "markdown",
      "metadata": {
        "id": "PXaR_WXFbN-f",
        "colab_type": "text"
      },
      "source": [
        "## Climatic"
      ]
    },
    {
      "cell_type": "code",
      "metadata": {
        "id": "81ahQ8IhwQz6",
        "colab_type": "code",
        "colab": {}
      },
      "source": [
        "import seaborn as sns\n",
        "fig, axes=plt.subplots(1,4,figsize=(21,2.5))\n",
        "for i,(itm, ax) in enumerate(zip(climatic_col,axes)):\n",
        "    b=sns.boxplot(y=itm, x='species_observed', data=df_eda_ss, palette=['lightblue','orange'],ax=ax)\n",
        "    ax.set_xlabel('Encountered',fontsize=15)\n",
        "    b.set_ylabel(climatic_col[i],fontsize=15)\n",
        "fig.suptitle(f'Dataset of {bird_name} in BCR {bcr_id} after subsampling (n={len(df_eda_ss)})',x=0.5,y=1.05,fontsize=15)\n",
        "fig.tight_layout()\n",
        "axes[0].tick_params(labelsize=15)\n",
        "axes[1].tick_params(labelsize=15)\n",
        "axes[2].tick_params(labelsize=15)\n",
        "axes[3].tick_params(labelsize=15)\n",
        "fig.savefig(PATH+f'figures/climatic_{file_id}.png',bbox_inches='tight')\n",
        "plt.show()"
      ],
      "execution_count": null,
      "outputs": []
    }
  ]
}